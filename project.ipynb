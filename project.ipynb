{
 "cells": [
  {
   "cell_type": "code",
   "execution_count": 1,
   "id": "a970b113-4ebf-49ec-b4ab-f83b4e348c90",
   "metadata": {},
   "outputs": [],
   "source": [
    "import numpy as np\n",
    "import pandas as pd\n",
    "from tensorflow.keras.datasets import fashion_mnist\n",
    "from tensorflow.keras.layers import Conv2D, Flatten, AvgPool2D, Dense, GlobalAveragePooling2D\n",
    "from tensorflow.keras.models import Sequential\n",
    "from tensorflow.keras.optimizers import Adam\n",
    "from tensorflow.keras.preprocessing.image import ImageDataGenerator\n",
    "from tensorflow.keras.applications.resnet import ResNet50\n",
    "\n",
    "def load_train(path):\n",
    "    labels = pd.read_csv(path+'labels.csv')\n",
    "    train_datagen = ImageDataGenerator(rescale= 1./255, horizontal_flip=True, validation_split=0.25)\n",
    "    train_datagen_flow = train_datagen.flow_from_dataframe(\n",
    "        dataframe = labels,\n",
    "        directory = path + 'final_files/',\n",
    "        x_col='file_name',\n",
    "        y_col='real_age',\n",
    "        target_size=(224, 224),\n",
    "        batch_size=32,\n",
    "        class_mode='raw',\n",
    "        subset='training',\n",
    "        horizontal_flip=True,\n",
    "        seed=12345)\n",
    "    return train_datagen_flow\n",
    "\n",
    "def load_test(path):\n",
    "    labels = pd.read_csv(path+'labels.csv')\n",
    "    test_datagen = ImageDataGenerator(rescale= 1./255, validation_split=0.25)\n",
    "    test_datagen_flow = test_datagen.flow_from_dataframe(\n",
    "        dataframe = labels,\n",
    "        directory = path + 'final_files/',\n",
    "        x_col='file_name',\n",
    "        y_col='real_age',\n",
    "        target_size=(224, 224),\n",
    "        batch_size=32,\n",
    "        class_mode='raw',\n",
    "        subset='validation',\n",
    "        seed=12345)\n",
    "    return test_datagen_flow\n",
    "\n",
    "def create_model(input_shape):\n",
    "    optimizer = Adam(lr=0.0001)\n",
    "    backbone = ResNet50(input_shape= input_shape, weights='imagenet', include_top= False)\n",
    "    model = Sequential()\n",
    "    model.add(backbone)\n",
    "    model.add(GlobalAveragePooling2D())\n",
    "    model.add(Dense(1, activation='relu'))\n",
    "    model.compile(optimizer=optimizer, loss='mean_squared_error',metrics=['mae']) \n",
    "    return model\n",
    "\n",
    "def train_model(model, train_data, test_data, batch_size=None, epochs=10, steps_per_epoch=None, validation_steps=None):\n",
    "    if steps_per_epoch is None:\n",
    "        steps_per_epoch = len(train_data)\n",
    "    if validation_steps is None:\n",
    "        validation_steps = len(test_data)\n",
    "\n",
    "    model.fit(train_data,\n",
    "              validation_data= test_data,\n",
    "              batch_size=batch_size, \n",
    "              epochs=epochs,\n",
    "              steps_per_epoch=steps_per_epoch,\n",
    "              validation_steps=validation_steps,\n",
    "              verbose=2)\n",
    "    return model"
   ]
  },
  {
   "cell_type": "code",
   "execution_count": 2,
   "id": "9a67838c-d3d7-4b2f-b61b-33e3fdafffd8",
   "metadata": {},
   "outputs": [
    {
     "name": "stderr",
     "output_type": "stream",
     "text": [
      "[NbConvertApp] Converting notebook project.ipynb to python\n",
      "[NbConvertApp] Writing 2497 bytes to project.py\n"
     ]
    }
   ],
   "source": [
    "try:   \n",
    "    !jupyter nbconvert --to python project.ipynb\n",
    "except:\n",
    "    pass"
   ]
  }
 ],
 "metadata": {
  "kernelspec": {
   "display_name": "Python 3 (ipykernel)",
   "language": "python",
   "name": "python3"
  },
  "language_info": {
   "codemirror_mode": {
    "name": "ipython",
    "version": 3
   },
   "file_extension": ".py",
   "mimetype": "text/x-python",
   "name": "python",
   "nbconvert_exporter": "python",
   "pygments_lexer": "ipython3",
   "version": "3.9.5"
  }
 },
 "nbformat": 4,
 "nbformat_minor": 5
}
